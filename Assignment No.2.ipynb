{
 "cells": [
  {
   "cell_type": "markdown",
   "metadata": {},
   "source": [
    "### Assignment 2"
   ]
  },
  {
   "cell_type": "markdown",
   "metadata": {},
   "source": [
    "### 1. What are the Boolean data type&#39;s two values? How do you go about writing them?"
   ]
  },
  {
   "cell_type": "markdown",
   "metadata": {},
   "source": [
    "In a python there are two values of boolean datatype.First one is True and second one is False.\n",
    "In boolean datatype 1 is interpreted as True and 0 is interpreted as False.\n",
    "for eg: "
   ]
  },
  {
   "cell_type": "code",
   "execution_count": 4,
   "metadata": {},
   "outputs": [
    {
     "data": {
      "text/plain": [
       "True"
      ]
     },
     "execution_count": 4,
     "metadata": {},
     "output_type": "execute_result"
    }
   ],
   "source": [
    "9>8"
   ]
  },
  {
   "cell_type": "code",
   "execution_count": 5,
   "metadata": {},
   "outputs": [
    {
     "data": {
      "text/plain": [
       "False"
      ]
     },
     "execution_count": 5,
     "metadata": {},
     "output_type": "execute_result"
    }
   ],
   "source": [
    "8>=9"
   ]
  },
  {
   "cell_type": "markdown",
   "metadata": {},
   "source": [
    "### 2. What are the three different types of Boolean operators?"
   ]
  },
  {
   "cell_type": "markdown",
   "metadata": {},
   "source": [
    "The three different types of Boolean operators are : AND,OR,NOT\n",
    "\n",
    "    1) AND operator: When both the inputs are True i.e.1 then it gives True output.\n",
    "       But if any one input is False i.e.0 it gives False at output \n",
    "    \n",
    "    2)OR operator: When anyone input is True i.e.1 then it give True at the output.\n",
    "        \n",
    "    3)NOT operator:It gives True output only if input given is False    "
   ]
  },
  {
   "cell_type": "markdown",
   "metadata": {},
   "source": [
    "### 3. Make a list of each Boolean operator's truth tables (i.e. every possible combination of Boolean\n",
    "### values for the operator and what it evaluate )."
   ]
  },
  {
   "cell_type": "markdown",
   "metadata": {},
   "source": [
    "1)AND operator: \n",
    "\n",
    "               a       b          o/p\n",
    "        \n",
    "              False   False      False\n",
    "        \n",
    "              False   True       False\n",
    "            \n",
    "              True    False      False\n",
    "                \n",
    "              True    True       True\n",
    "            \n",
    " 2)OR operator: \n",
    " \n",
    "               a       b          o/p\n",
    "        \n",
    "              False   False      False\n",
    "        \n",
    "              False   True       True\n",
    "            \n",
    "              True    False      True\n",
    "                \n",
    "              True    True       True\n",
    "            \n",
    " 3)NOT operator: \n",
    " \n",
    "               a       o/p\n",
    "        \n",
    "             True      False\n",
    "            \n",
    "             False     True"
   ]
  },
  {
   "cell_type": "markdown",
   "metadata": {},
   "source": [
    "### 4. What are the values of the following expressions?"
   ]
  },
  {
   "cell_type": "code",
   "execution_count": 6,
   "metadata": {},
   "outputs": [
    {
     "data": {
      "text/plain": [
       "False"
      ]
     },
     "execution_count": 6,
     "metadata": {},
     "output_type": "execute_result"
    }
   ],
   "source": [
    "(5>4) and (3==5)"
   ]
  },
  {
   "cell_type": "code",
   "execution_count": 7,
   "metadata": {},
   "outputs": [
    {
     "data": {
      "text/plain": [
       "False"
      ]
     },
     "execution_count": 7,
     "metadata": {},
     "output_type": "execute_result"
    }
   ],
   "source": [
    "not(5>4)"
   ]
  },
  {
   "cell_type": "code",
   "execution_count": 8,
   "metadata": {},
   "outputs": [
    {
     "data": {
      "text/plain": [
       "True"
      ]
     },
     "execution_count": 8,
     "metadata": {},
     "output_type": "execute_result"
    }
   ],
   "source": [
    "(5>4) or (3==5)"
   ]
  },
  {
   "cell_type": "code",
   "execution_count": 9,
   "metadata": {},
   "outputs": [
    {
     "data": {
      "text/plain": [
       "False"
      ]
     },
     "execution_count": 9,
     "metadata": {},
     "output_type": "execute_result"
    }
   ],
   "source": [
    "not((5>4) or (3==5))"
   ]
  },
  {
   "cell_type": "code",
   "execution_count": 10,
   "metadata": {},
   "outputs": [
    {
     "data": {
      "text/plain": [
       "False"
      ]
     },
     "execution_count": 10,
     "metadata": {},
     "output_type": "execute_result"
    }
   ],
   "source": [
    "(True and True) and (True == False)"
   ]
  },
  {
   "cell_type": "code",
   "execution_count": 11,
   "metadata": {},
   "outputs": [
    {
     "data": {
      "text/plain": [
       "True"
      ]
     },
     "execution_count": 11,
     "metadata": {},
     "output_type": "execute_result"
    }
   ],
   "source": [
    "(not False) or (not True)"
   ]
  },
  {
   "cell_type": "markdown",
   "metadata": {},
   "source": [
    "### 5. What are the six different types of reference operators?"
   ]
  },
  {
   "cell_type": "markdown",
   "metadata": {},
   "source": [
    "1.Assignment operator: It is used to assign values.\n",
    "    \n",
    "    for eg: =,+=,-= ,*=,/=,%=,**=,//=\n",
    "    \n",
    "2.Arithmatic operatos: It is used to perform mathematical operation like addition,substraction,multiplication,division and so on.\n",
    "    \n",
    "    for eg:+,-,*,/ ,%,**,//\n",
    "\n",
    "3.Logical operators: It is used to combine conditional statments.\n",
    "    \n",
    "    for eg: and,or,not\n",
    "        \n",
    "4.Comparison operator: It is used to compare values.\n",
    "    \n",
    "    for eg:<,>,<=,>=,==\n",
    "        \n",
    " 5.Bitwise operator: It is used to perform bitwise calculations on integers.\n",
    "    \n",
    "    for eg:~,<<,>>,&,|,^\n",
    "        \n",
    " 6.Identity operators: It is used to compare objects.\n",
    "    \n",
    "    for eg:Is ,Is Not"
   ]
  },
  {
   "cell_type": "markdown",
   "metadata": {},
   "source": [
    "### 6. How do you tell the difference between the equal to and assignment operators?"
   ]
  },
  {
   "cell_type": "markdown",
   "metadata": {},
   "source": [
    "== is a comparison operator.This operator is used to check whether two operands are equal or not,if they are equal it return true otherwise it returns false.\n",
    "    \n",
    "= is an assignment operator which assign the value to the variable present on left side.    "
   ]
  },
  {
   "cell_type": "markdown",
   "metadata": {},
   "source": [
    "### 7. Describe a condition and when you would use one."
   ]
  },
  {
   "cell_type": "markdown",
   "metadata": {},
   "source": [
    "Condition is a statement which controls the flow of execution  of program depending on a particular condition .\n",
    "It is used when we have to perform some sort of decision making. "
   ]
  },
  {
   "cell_type": "markdown",
   "metadata": {},
   "source": [
    "### 8. Recognize the following three blocks in this code:"
   ]
  },
  {
   "cell_type": "markdown",
   "metadata": {},
   "source": [
    "1 Block:\n",
    "spam = 0\n",
    "\n",
    "if spam == 10:\n",
    "   print('eggs')\n",
    "    \n",
    "2 Block: \n",
    "\n",
    "    if spam > 5:\n",
    "        print('bacon')\n",
    "        \n",
    "3 Block:   \n",
    "\n",
    "    else:\n",
    "        print('ham')\n",
    "    print('spam')\n",
    "print('spam')   \n",
    "   \n"
   ]
  },
  {
   "cell_type": "markdown",
   "metadata": {},
   "source": [
    "### 9. Create a programme that prints. If 1 is stored in spam, prints Hello; if 2 is stored in spam, prints\n",
    "### Howdy; and if 3 is stored in spam, prints Salutations! if there's something else in spam."
   ]
  },
  {
   "cell_type": "code",
   "execution_count": 5,
   "metadata": {},
   "outputs": [
    {
     "name": "stdout",
     "output_type": "stream",
     "text": [
      "enter any number: 5\n",
      "Salutations!\n"
     ]
    }
   ],
   "source": [
    "spam = int(input(\"enter any number: \"))\n",
    "if spam == 1:\n",
    "    print('Hello')\n",
    "elif spam== 2:\n",
    "     print('Howdy')\n",
    "else:\n",
    "     print('Salutations!')\n",
    "    "
   ]
  },
  {
   "cell_type": "markdown",
   "metadata": {},
   "source": [
    "### 10.If your programme is stuck in an endless loop, what keys can you press?"
   ]
  },
  {
   "cell_type": "markdown",
   "metadata": {},
   "source": [
    "ctrl + c"
   ]
  },
  {
   "cell_type": "markdown",
   "metadata": {},
   "source": [
    "### 11. How can you tell the difference between break and continue?"
   ]
  },
  {
   "cell_type": "markdown",
   "metadata": {},
   "source": [
    "Break : Break statement is used to come out of the program i.e. to exit the program.\n",
    "    \n",
    "Continue : Continue statement is used when we have to skip one iteration and then control directly goes to the start of the loop .     "
   ]
  },
  {
   "cell_type": "markdown",
   "metadata": {},
   "source": [
    "### 12. In a for loop, what is the difference between range(10), range(0, 10), and range(0, 10, 1)?"
   ]
  },
  {
   "cell_type": "markdown",
   "metadata": {},
   "source": [
    "range(10): Here In this range function 10 is stop value.\n",
    "\n",
    "range(0,10): In this range function 0 is start  value and 10 is a stop value.\n",
    "\n",
    "range(0, 10, 1): In this range function 0 is start value , 10 is stop value and 1 is step index or jump value."
   ]
  },
  {
   "cell_type": "markdown",
   "metadata": {},
   "source": [
    "### 13. Using a for loop, write a short programme that prints the numbers 1 to 10 Then, using a while loop, create an identical programme that prints the numbers 1 to 10."
   ]
  },
  {
   "cell_type": "code",
   "execution_count": 7,
   "metadata": {},
   "outputs": [
    {
     "name": "stdout",
     "output_type": "stream",
     "text": [
      "1\n",
      "2\n",
      "3\n",
      "4\n",
      "5\n",
      "6\n",
      "7\n",
      "8\n",
      "9\n",
      "10\n"
     ]
    }
   ],
   "source": [
    "for i in range(1,11):\n",
    "    print(i)"
   ]
  },
  {
   "cell_type": "code",
   "execution_count": 6,
   "metadata": {},
   "outputs": [
    {
     "name": "stdout",
     "output_type": "stream",
     "text": [
      "1\n",
      "2\n",
      "3\n",
      "4\n",
      "5\n",
      "6\n",
      "7\n",
      "8\n",
      "9\n",
      "10\n"
     ]
    }
   ],
   "source": [
    "i=1\n",
    "while i<=10:\n",
    "    print(i)\n",
    "    i=i+1"
   ]
  },
  {
   "cell_type": "markdown",
   "metadata": {},
   "source": [
    "### 14. If you had a bacon() function within a spam module, what would you call it after importing spam?"
   ]
  },
  {
   "cell_type": "code",
   "execution_count": null,
   "metadata": {},
   "outputs": [],
   "source": [
    "import spam\n",
    "\n",
    "spam.bacon()"
   ]
  }
 ],
 "metadata": {
  "kernelspec": {
   "display_name": "Python 3",
   "language": "python",
   "name": "python3"
  },
  "language_info": {
   "codemirror_mode": {
    "name": "ipython",
    "version": 3
   },
   "file_extension": ".py",
   "mimetype": "text/x-python",
   "name": "python",
   "nbconvert_exporter": "python",
   "pygments_lexer": "ipython3",
   "version": "3.8.5"
  }
 },
 "nbformat": 4,
 "nbformat_minor": 4
}
